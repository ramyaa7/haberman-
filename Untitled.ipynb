{
 "cells": [
  {
   "cell_type": "code",
   "execution_count": 8,
   "metadata": {},
   "outputs": [
    {
     "ename": "SyntaxError",
     "evalue": "invalid syntax (<ipython-input-8-d3e75ac9d910>, line 67)",
     "output_type": "error",
     "traceback": [
      "\u001b[1;36m  File \u001b[1;32m\"<ipython-input-8-d3e75ac9d910>\"\u001b[1;36m, line \u001b[1;32m67\u001b[0m\n\u001b[1;33m    normalize=True*100,2.reset_index().rename(columns = {'index':'job_satisfaction','JobSatisfaction':'percentage'})\u001b[0m\n\u001b[1;37m                                   ^\u001b[0m\n\u001b[1;31mSyntaxError\u001b[0m\u001b[1;31m:\u001b[0m invalid syntax\n"
     ]
    }
   ],
   "source": [
    "W\n",
    "# py.init_notebook_mode(connected=True)\n",
    "# from plotly.offline import init_notebook_mode, iplot\n",
    "# init_notebook_mode(connected=True)\n",
    "\n",
    "# import plotly.offline as offline\n",
    "# offline.init_notebook_mode()\n",
    "from plotly import tools\n",
    "\n",
    "\n",
    "import plotly.graph_objs as go\n",
    "\n",
    "import matplotlib.pyplot as plt\n",
    "# import cufflinks and offline mode\n",
    "\n",
    "\n",
    "# Input data files are available in the \".\n",
    "# Input data files are available in the \"../input/\" directory.\n",
    "# For example, running this (by clicking run or pressing Shift+Enter) will list the files in the input directory\n",
    "\n",
    "import os\n",
    "print(os.listdir(\"../input\"))\n",
    "\n",
    "# Any results you write to the current directory are saved as output.\n",
    "survey = pd.read_csv('../input/survey_results_public.csv', low_memory=False)\n",
    "survey_schema = pd.read_csv('../input/survey_results_schema.csv')\n",
    "survey.head()\n",
    "().stack().value_counts().sort_values(ascending = True)\n",
    "\n",
    "data = go.Bar(\n",
    "    x = temp.values,\n",
    "    y = temp.index,\n",
    "    orientation = 'h',\n",
    "    marker = dict(\n",
    "        colorscale = 'Greens',\n",
    "    )\n",
    "    \n",
    ")\n",
    "layout = dict(\n",
    "    title = 'Who Took the Surveys?',\n",
    "    height = 800,\n",
    "#     xaxis = '# of Participants', \n",
    "    margin = dict(\n",
    "        l=300,\n",
    "    )\n",
    ")\n",
    "fig = go.Figure(data = data, layout = layout)\n",
    "fig.show()\n",
    "temp = pd.DataFrame(survey.Gender.dropna().str.split(';').tolist()).stack().value_counts(dropna = False).sort_values(ascending = True)\n",
    "labels = temp.index\n",
    "values = temp.values\n",
    "\n",
    "colors = ['gold', 'lightgreen']\n",
    "# Use `hole` to create a donut-like pie chart\n",
    "fig = go.Figure(data=[go.Pie(labels=labels, values=values, hole=.3)])\n",
    "\n",
    "fig.update_traces(hoverinfo='label+value', textinfo='percent', textfont_size=20,\n",
    "                  marker=dict(colors=colors, line=dict(color='#000000', width=2)))\n",
    "# fig.update_layout(template = 'plotly_dark')\n",
    "fig.show()\n",
    "False\n",
    "normalize=True*100,2.reset_index().rename(columns = {'index':'job_satisfaction','JobSatisfaction':'percentage'})\n"
   ]
  },
  {
   "cell_type": "code",
   "execution_count": null,
   "metadata": {},
   "outputs": [],
   "source": []
  }
 ],
 "metadata": {
  "kernelspec": {
   "display_name": "Python 3",
   "language": "python",
   "name": "python3"
  },
  "language_info": {
   "codemirror_mode": {
    "name": "ipython",
    "version": 3
   },
   "file_extension": ".py",
   "mimetype": "text/x-python",
   "name": "python",
   "nbconvert_exporter": "python",
   "pygments_lexer": "ipython3",
   "version": "3.7.6"
  }
 },
 "nbformat": 4,
 "nbformat_minor": 4
}
